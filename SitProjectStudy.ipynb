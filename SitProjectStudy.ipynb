{
 "cells": [
  {
   "cell_type": "code",
   "execution_count": null,
   "metadata": {
    "id": "WB3wIKrE60uo"
   },
   "outputs": [],
   "source": [
    "#https://power.larc.nasa.gov/api/temporal/daily/point?parameters=ALLSKY_SFC_SW_DWN,CLRSKY_SFC_SW_DWN,ALLSKY_KT,ALLSKY_SFC_LW_DWN,T2M,T2MDEW,T2MWET,T2M_RANGE,T2M_MAX,T2M_MIN,QV2M,RH2M,PS,WS10M,WS10M_MAX,WS10M_MIN,WS10M_RANGE&community=RE&longitude=126.9846&latitude=36.7962&start=20170101&end=20220331&format=JSON"
   ]
  },
  {
   "cell_type": "code",
   "execution_count": 4,
   "metadata": {},
   "outputs": [],
   "source": [
    "import json\n",
    "from urllib.request import urlopen\n",
    "\n",
    "url = \"https://power.larc.nasa.gov/api/temporal/daily/point?parameters=ALLSKY_SFC_SW_DWN,CLRSKY_SFC_SW_DWN,ALLSKY_KT,ALLSKY_SFC_LW_DWN,T2M,T2MDEW,T2MWET,T2M_RANGE,T2M_MAX,T2M_MIN,QV2M,RH2M,PS,WS10M,WS10M_MAX,WS10M_MIN,WS10M_RANGE&community=RE&longitude=126.9846&latitude=36.7962&start=20170101&end=20220331&format=JSON\"\n",
    "\n",
    "response = urlopen(url).read().decode('utf-8')\n",
    "responseJson = json.loads(response)"
   ]
  },
  {
   "cell_type": "code",
   "execution_count": 5,
   "metadata": {},
   "outputs": [],
   "source": [
    "properties = responseJson.get('properites')"
   ]
  },
  {
   "cell_type": "code",
   "execution_count": null,
   "metadata": {},
   "outputs": [],
   "source": []
  }
 ],
 "metadata": {
  "accelerator": "GPU",
  "colab": {
   "authorship_tag": "ABX9TyNm469FccOzMPdwrNUa1448",
   "name": "project1.ipynb",
   "provenance": []
  },
  "kernelspec": {
   "display_name": "Python 3",
   "language": "python",
   "name": "python3"
  },
  "language_info": {
   "codemirror_mode": {
    "name": "ipython",
    "version": 3
   },
   "file_extension": ".py",
   "mimetype": "text/x-python",
   "name": "python",
   "nbconvert_exporter": "python",
   "pygments_lexer": "ipython3",
   "version": "3.6.9"
  }
 },
 "nbformat": 4,
 "nbformat_minor": 4
}
